{
 "cells": [
  {
   "cell_type": "markdown",
   "metadata": {},
   "source": [
    "# ITP-INTRODUCTION TO PROGRAMMING"
   ]
  },
  {
   "cell_type": "markdown",
   "metadata": {},
   "source": [
    "## DAY 1 CLASS-DEFINING THE DATA AND USING THEM"
   ]
  },
  {
   "cell_type": "markdown",
   "metadata": {},
   "source": [
    "#### PHYTON VS JUPYTER NOTEBOOK"
   ]
  },
  {
   "cell_type": "markdown",
   "metadata": {},
   "source": [
    "#### PHYTON-PROGRAMMING IS A LANGUAGE(NORMAL LITERATURE USED FOR COMMUNICATION-TO COMMUNICATE/TELL WITH THE COMPUTER TO PERFORM A CERTAIN TASK)-USES:MORE LIBRARY/FEATURES/SUPPORT WHICH CAN BE USED/DEVELOPED FOR DATA ANALYSIS/MACHINE LEARNING"
   ]
  },
  {
   "cell_type": "markdown",
   "metadata": {},
   "source": [
    "#### JUPYTER NOTEBOOK-PLACE TO PERFORM THE TASK WHY?MORE TASK CAN BE DONE WHICH IS MOST EASY TO DO THE TASK"
   ]
  },
  {
   "cell_type": "markdown",
   "metadata": {},
   "source": [
    "#### ANACONDA-is an DISTRIBUTER which has all required ones"
   ]
  },
  {
   "cell_type": "markdown",
   "metadata": {},
   "source": [
    "### PSEUDOCODE-STEP BY STEP,STEPS TO BE FOLLOWED "
   ]
  },
  {
   "cell_type": "code",
   "execution_count": null,
   "metadata": {},
   "outputs": [],
   "source": [
    "#EX1:ADDITION OF TWO NUMBERS\n",
    "#STEP1:TAKE 2 NO'S AS AN INPUT FROM USER AS A AND B\n",
    "#STEP2:ADD 2 N0'S CALCULATE C=A+B\n",
    "#STEP3: PRINT THE ADDITION \"C\"\n"
   ]
  },
  {
   "cell_type": "code",
   "execution_count": null,
   "metadata": {},
   "outputs": [],
   "source": [
    "#EX2:CALCULATE BMI WHEN WEIGHT AND HEIGHT IS ENTERED AS INPUT\n",
    "#STEP1:TAKE HEIGHT IN M AND WEIGHT IN KG AS INPUT FROM USER AS WEIGHT AND HEIGHT\n",
    "#STEP2:BMI=WEIGHT/(HEIGHT^2)\n",
    "#STEP3:PRINT BMI"
   ]
  },
  {
   "cell_type": "code",
   "execution_count": null,
   "metadata": {},
   "outputs": [],
   "source": [
    "#EX3:EVEN OR ODD BY %-RETURNS REMAINDER OF DIVISION\n",
    "#STEP1:TAKE A NO AS USER INPUT AS NUM\n",
    "#STEP2:CHECK IF NUM%2 ==0\n",
    "#STEP3:PRINT 'EVEN'\n",
    "#STEP4:ELSE PRINT 'ODD'"
   ]
  },
  {
   "cell_type": "code",
   "execution_count": null,
   "metadata": {},
   "outputs": [],
   "source": [
    "#EX4:CHECK IF ENTERED CHARACTER IS AVOWEL OR NOT\n",
    "#STEP1:TAKE A CHARACTER AS INPUT FROM USER AS CH\n",
    "#STEP2:CHECK IF CH IS EITHER OF \"aeiou\"\n",
    "#STEP3:THEN PRINT VOWEL\n",
    "#STEP4:ELSE PRINT CONSONANT"
   ]
  },
  {
   "cell_type": "code",
   "execution_count": null,
   "metadata": {},
   "outputs": [],
   "source": [
    "#EX5:PRINT ADDITION OF FIRST 5 NATURAL NO\n",
    "#STEP1:INITIALIZE TOTAL =0 TO STORE THE SUMMATION\n",
    "#STEP2:INITIALIZE NUM=1 TO STORE THE GENERATED NUMBERS\n",
    "#STEP3:CALCULATE TOTAL=TOTAL+NUM\n",
    "#STEP4:INCREMENT NUM BY 1(NUM=NUM+1)\n",
    "#STEP5:IF NUM=5\n",
    "#STEP6:PRINT TOTAL\n",
    "#STEP 7:ELSE REPEAT STEPS 3 TO 6"
   ]
  },
  {
   "cell_type": "markdown",
   "metadata": {},
   "source": [
    "## DATA TYPES IN PYTHON\n",
    "### 1.NUMERIC-INT,FLOAT,COMPLEX\n",
    "### 2.STRING\n",
    "### 3.BOOLEAN"
   ]
  },
  {
   "cell_type": "markdown",
   "metadata": {},
   "source": [
    "## PYTHON CONTAINERS\n",
    "\n",
    "### CONTAINERS ARE ANY OBJECT THAT HOLD AN ARBITARY NUMBER OF OTHER OBJECTS.GENERALLY CONTAINERS PROVIDE A WAY TO ACESS THE CONTAINED OBJECT AND TO ITERATE OVER THEM\n",
    "#### EXAMPLE OF BUILT-IN CONTAINERS:TUPLES,LIST,SETS,DICTIONARY"
   ]
  },
  {
   "cell_type": "code",
   "execution_count": null,
   "metadata": {},
   "outputs": [],
   "source": [
    "[1,2,3,4,'ABC'] #LIST[]-any type of Element "
   ]
  },
  {
   "cell_type": "code",
   "execution_count": null,
   "metadata": {},
   "outputs": [],
   "source": [
    "(1,2,3,4) #TUPLE()"
   ]
  },
  {
   "cell_type": "code",
   "execution_count": null,
   "metadata": {},
   "outputs": [],
   "source": [
    "{2,'S',3,5,5} #SET{}-ELIMINATE THE DUPLICATES"
   ]
  },
  {
   "cell_type": "code",
   "execution_count": null,
   "metadata": {},
   "outputs": [],
   "source": [
    "{1:'JANE',2:'GEORGE',3:'SAM'} #DICTIONARY{1:'',2:'',}"
   ]
  },
  {
   "cell_type": "markdown",
   "metadata": {},
   "source": [
    "# VARIABLES IN PYTHON \n",
    "#### A PYTHON VARIABLE PONTS TO A RESERVED MEMORY LOCATION\n",
    "#### DATA OR OBJECTS ARE STORED IN THESE MEMORIES\n",
    "#### VARIABLES CAN BE DECLARED BY ANY NAME OR EVEN ALPHABETS"
   ]
  },
  {
   "cell_type": "markdown",
   "metadata": {},
   "source": [
    "### DEFINE VARIABLE NAME AND ASSIGN VALUE"
   ]
  },
  {
   "cell_type": "code",
   "execution_count": 1,
   "metadata": {},
   "outputs": [
    {
     "name": "stdout",
     "output_type": "stream",
     "text": [
      "welcome Jack\n"
     ]
    }
   ],
   "source": [
    "name='Jack'\n",
    "print(\"welcome\",name)"
   ]
  },
  {
   "cell_type": "code",
   "execution_count": null,
   "metadata": {},
   "outputs": [],
   "source": [
    "a=True\n",
    "print(type(a))"
   ]
  },
  {
   "cell_type": "code",
   "execution_count": null,
   "metadata": {},
   "outputs": [],
   "source": [
    "a=10\n",
    "print(type(a))"
   ]
  },
  {
   "cell_type": "code",
   "execution_count": null,
   "metadata": {},
   "outputs": [],
   "source": [
    "a=10.5\n",
    "print()"
   ]
  },
  {
   "cell_type": "code",
   "execution_count": null,
   "metadata": {},
   "outputs": [],
   "source": [
    "a=\"abcd\"\n",
    "print(type(a))"
   ]
  },
  {
   "cell_type": "code",
   "execution_count": 2,
   "metadata": {},
   "outputs": [
    {
     "name": "stdout",
     "output_type": "stream",
     "text": [
      "<class 'list'>\n"
     ]
    }
   ],
   "source": [
    "l=['a','b','c']\n",
    "print(type(l))"
   ]
  },
  {
   "cell_type": "markdown",
   "metadata": {},
   "source": [
    "##### ex1: wap take a name of user  as input and print a welcome message"
   ]
  },
  {
   "cell_type": "code",
   "execution_count": null,
   "metadata": {},
   "outputs": [],
   "source": [
    "name=input(\"ENTER YOUR NAME:-\")\n",
    "print(\"WELCOME\",name)"
   ]
  },
  {
   "cell_type": "markdown",
   "metadata": {},
   "source": [
    "#### ex2:wap take two numbers from user and print their sum"
   ]
  },
  {
   "cell_type": "code",
   "execution_count": null,
   "metadata": {},
   "outputs": [],
   "source": [
    "a=int(input('Enter The First Number:'))\n",
    "b=int(input('Enter The Second Number:'))\n",
    "c=a+b\n",
    "print(\"The Addition of Two numbers is:\",c)"
   ]
  },
  {
   "cell_type": "markdown",
   "metadata": {},
   "source": [
    "### DATA CONVERSION"
   ]
  },
  {
   "cell_type": "markdown",
   "metadata": {},
   "source": [
    "#### EXPLICIT CONVERSION\n"
   ]
  },
  {
   "cell_type": "code",
   "execution_count": null,
   "metadata": {},
   "outputs": [],
   "source": [
    "a='10'\n",
    "b=5\n",
    "c=int(a)+b\n",
    "print(c)"
   ]
  },
  {
   "cell_type": "markdown",
   "metadata": {},
   "source": [
    "#### INT CONVERSION"
   ]
  },
  {
   "cell_type": "code",
   "execution_count": null,
   "metadata": {},
   "outputs": [],
   "source": [
    "x='10'\n",
    "int(x)"
   ]
  },
  {
   "cell_type": "code",
   "execution_count": 3,
   "metadata": {},
   "outputs": [
    {
     "name": "stdout",
     "output_type": "stream",
     "text": [
      "1\n",
      "True\n"
     ]
    }
   ],
   "source": [
    "x=True\n",
    "print(int(x))\n",
    "print(x)"
   ]
  },
  {
   "cell_type": "code",
   "execution_count": null,
   "metadata": {},
   "outputs": [],
   "source": [
    "x=False\n",
    "int(x)"
   ]
  },
  {
   "cell_type": "code",
   "execution_count": null,
   "metadata": {},
   "outputs": [],
   "source": [
    "x=10.18\n",
    "int(x)"
   ]
  },
  {
   "cell_type": "markdown",
   "metadata": {},
   "source": [
    "#### STRING CONVERSION\n"
   ]
  },
  {
   "cell_type": "code",
   "execution_count": null,
   "metadata": {},
   "outputs": [],
   "source": [
    "x=10\n",
    "str(x)"
   ]
  },
  {
   "cell_type": "code",
   "execution_count": 4,
   "metadata": {},
   "outputs": [
    {
     "data": {
      "text/plain": [
       "'[1, 2, 3, 4, 5]'"
      ]
     },
     "execution_count": 4,
     "metadata": {},
     "output_type": "execute_result"
    }
   ],
   "source": [
    "l=[1,2,3,4,5]\n",
    "str(l)"
   ]
  },
  {
   "cell_type": "markdown",
   "metadata": {},
   "source": [
    "#### BOOLEAN CONVERSION"
   ]
  },
  {
   "cell_type": "code",
   "execution_count": null,
   "metadata": {},
   "outputs": [],
   "source": [
    "x=0.0\n",
    "bool(x)"
   ]
  },
  {
   "cell_type": "code",
   "execution_count": null,
   "metadata": {},
   "outputs": [],
   "source": [
    "x=10\n",
    "bool(x)"
   ]
  },
  {
   "cell_type": "code",
   "execution_count": 5,
   "metadata": {},
   "outputs": [
    {
     "data": {
      "text/plain": [
       "True"
      ]
     },
     "execution_count": 5,
     "metadata": {},
     "output_type": "execute_result"
    }
   ],
   "source": [
    "x=\"True\"\n",
    "bool(x)"
   ]
  },
  {
   "cell_type": "code",
   "execution_count": 6,
   "metadata": {},
   "outputs": [
    {
     "data": {
      "text/plain": [
       "True"
      ]
     },
     "execution_count": 6,
     "metadata": {},
     "output_type": "execute_result"
    }
   ],
   "source": [
    "x='false'\n",
    "bool(x) #bool return any above 0 as true"
   ]
  },
  {
   "cell_type": "markdown",
   "metadata": {},
   "source": [
    "## OPERATORS:-"
   ]
  },
  {
   "cell_type": "markdown",
   "metadata": {},
   "source": [
    "### ARITHMETIC OPERATORS:-"
   ]
  },
  {
   "cell_type": "code",
   "execution_count": 8,
   "metadata": {},
   "outputs": [
    {
     "data": {
      "text/plain": [
       "17"
      ]
     },
     "execution_count": 8,
     "metadata": {},
     "output_type": "execute_result"
    }
   ],
   "source": [
    "a=10\n",
    "b=7\n",
    "c=a+b\n",
    "c"
   ]
  },
  {
   "cell_type": "code",
   "execution_count": 9,
   "metadata": {},
   "outputs": [
    {
     "data": {
      "text/plain": [
       "3"
      ]
     },
     "execution_count": 9,
     "metadata": {},
     "output_type": "execute_result"
    }
   ],
   "source": [
    "d=a-b\n",
    "d"
   ]
  },
  {
   "cell_type": "code",
   "execution_count": 10,
   "metadata": {},
   "outputs": [
    {
     "data": {
      "text/plain": [
       "70"
      ]
     },
     "execution_count": 10,
     "metadata": {},
     "output_type": "execute_result"
    }
   ],
   "source": [
    "e=a*b\n",
    "e"
   ]
  },
  {
   "cell_type": "code",
   "execution_count": 11,
   "metadata": {},
   "outputs": [
    {
     "data": {
      "text/plain": [
       "1.4285714285714286"
      ]
     },
     "execution_count": 11,
     "metadata": {},
     "output_type": "execute_result"
    }
   ],
   "source": [
    "f=a/b\n",
    "f"
   ]
  },
  {
   "cell_type": "code",
   "execution_count": 12,
   "metadata": {},
   "outputs": [
    {
     "data": {
      "text/plain": [
       "1"
      ]
     },
     "execution_count": 12,
     "metadata": {},
     "output_type": "execute_result"
    }
   ],
   "source": [
    "g=a//b\n",
    "g"
   ]
  },
  {
   "cell_type": "code",
   "execution_count": null,
   "metadata": {},
   "outputs": [],
   "source": [
    "h=a**b\n",
    "h"
   ]
  },
  {
   "cell_type": "code",
   "execution_count": 13,
   "metadata": {},
   "outputs": [
    {
     "data": {
      "text/plain": [
       "3"
      ]
     },
     "execution_count": 13,
     "metadata": {},
     "output_type": "execute_result"
    }
   ],
   "source": [
    "i=a%b\n",
    "i"
   ]
  },
  {
   "cell_type": "markdown",
   "metadata": {},
   "source": [
    "### EXCERSISES:-"
   ]
  },
  {
   "cell_type": "markdown",
   "metadata": {},
   "source": [
    "#### wap to calculate BMI of a person(take input for height and weight from user)"
   ]
  },
  {
   "cell_type": "code",
   "execution_count": null,
   "metadata": {},
   "outputs": [],
   "source": [
    "h=float(input('ENTER YOUR HEIGHT IN METERS:'))\n",
    "print(h)\n",
    "w=float(input('ENTER YOUR WEIGHT IN KG:'))\n",
    "print(w)\n",
    "bmi=round(w/(h**2),2)\n",
    "print('BMI:',bmi)"
   ]
  },
  {
   "cell_type": "markdown",
   "metadata": {},
   "source": [
    "#### wap to calculate SI when initial amount,rate of interest and number of years given as input.Jane deceides  to invest Rs.55,000 at rate of interest of 6.6%.what will be her maturity amount at end of 5years?"
   ]
  },
  {
   "cell_type": "code",
   "execution_count": null,
   "metadata": {},
   "outputs": [],
   "source": [
    "p=float(input(\"ENTER THE AMOUNT:\"))\n",
    "r=float(input(\"ENTER THE RATE OF INTEREST:\"))\n",
    "n=int(input(\"ENTER THE NO.OF YEARS TO BE INVESTED:\"))\n",
    "si=(p*n*r)/100\n",
    "print(\"THE RATE OF SIMPLE INTEREST AT THE END OF 5 YEARS IS:\",si)\n",
    "amount=si+p\n",
    "print(\"TOTAL AMOUNT AT THE END OF 5 YEARS:\",amount)"
   ]
  },
  {
   "cell_type": "markdown",
   "metadata": {},
   "source": [
    "#### wap to accept hours and rate per hour from user and compute gross pay"
   ]
  },
  {
   "cell_type": "code",
   "execution_count": null,
   "metadata": {},
   "outputs": [],
   "source": [
    "h=float(input('ENTER NO.OF HOURS:'))\n",
    "rph=float(input('ENTER RATE PER HOUR:'))\n",
    "gp=h*rph\n",
    "print(\"GROSS PAY:\",gp)"
   ]
  },
  {
   "cell_type": "code",
   "execution_count": null,
   "metadata": {},
   "outputs": [],
   "source": [
    "h=float(input('ENTER N0.OF HOURS:'))\n",
    "rph=int(input('ENTER RATE PER HOUR:'))\n",
    "gp=h*rph\n",
    "print(\"GROSS PAY:\",gp)"
   ]
  },
  {
   "cell_type": "markdown",
   "metadata": {},
   "source": [
    "### RELATIONAL OPERATORS:-"
   ]
  },
  {
   "cell_type": "code",
   "execution_count": null,
   "metadata": {},
   "outputs": [],
   "source": [
    "a=10\n",
    "b=7\n",
    "print(a<b)"
   ]
  },
  {
   "cell_type": "code",
   "execution_count": null,
   "metadata": {},
   "outputs": [],
   "source": [
    "print(a>b)"
   ]
  },
  {
   "cell_type": "code",
   "execution_count": null,
   "metadata": {},
   "outputs": [],
   "source": [
    "print(a<=b)"
   ]
  },
  {
   "cell_type": "code",
   "execution_count": null,
   "metadata": {},
   "outputs": [],
   "source": [
    "print(a>=b)"
   ]
  },
  {
   "cell_type": "code",
   "execution_count": null,
   "metadata": {},
   "outputs": [],
   "source": [
    "print(a==b)"
   ]
  },
  {
   "cell_type": "code",
   "execution_count": null,
   "metadata": {},
   "outputs": [],
   "source": [
    "print(a!=b)"
   ]
  },
  {
   "cell_type": "markdown",
   "metadata": {},
   "source": [
    "#### wap to take age as input and write condition to check if the user is an adult(o/p must be boolean value)"
   ]
  },
  {
   "cell_type": "code",
   "execution_count": null,
   "metadata": {},
   "outputs": [],
   "source": [
    "age=int(input(\"ENTER YOUE AGE:\"))\n",
    "age>=18"
   ]
  },
  {
   "cell_type": "code",
   "execution_count": 15,
   "metadata": {},
   "outputs": [
    {
     "name": "stdout",
     "output_type": "stream",
     "text": [
      "ENTER YOUE AGE:23\n",
      "True 23\n"
     ]
    }
   ],
   "source": [
    "age=int(input(\"ENTER YOUE AGE:\"))\n",
    "if age>=18:\n",
    "    print(bool(\"ADULT\"))\n",
    "else:\n",
    "    print(\"NOT AN ADULT\")"
   ]
  },
  {
   "cell_type": "markdown",
   "metadata": {},
   "source": [
    "#### wap to take a number as i/p and write condition to check if the number is divisible by 5.o/p must be boolean value"
   ]
  },
  {
   "cell_type": "code",
   "execution_count": 17,
   "metadata": {},
   "outputs": [
    {
     "name": "stdout",
     "output_type": "stream",
     "text": [
      "ENTER A NUMBER:11\n",
      "11 is not divisible by 5\n"
     ]
    }
   ],
   "source": [
    "n=int(input('ENTER A NUMBER:'))\n",
    "if n%5==0:\n",
    "    print(bool(n),n,'is divisible by 5')\n",
    "else:\n",
    "    print(n,'is not divisible by 5')"
   ]
  },
  {
   "cell_type": "markdown",
   "metadata": {},
   "source": [
    "### LOGICAL OPERATOR:-"
   ]
  },
  {
   "cell_type": "markdown",
   "metadata": {},
   "source": [
    "#### wap to take number as input and write accondition if the number is greater than 10 and divisible by 5 o/p must be boolean"
   ]
  },
  {
   "cell_type": "code",
   "execution_count": null,
   "metadata": {},
   "outputs": [],
   "source": [
    "n=int(input(\"enter a number:\"))\n",
    "(n%5==0) and (n>10)"
   ]
  },
  {
   "cell_type": "markdown",
   "metadata": {},
   "source": [
    "#### wap to take number as input and write accondition if the number is greater than 10 or divisible by 5 o/p must be boolean"
   ]
  },
  {
   "cell_type": "code",
   "execution_count": null,
   "metadata": {},
   "outputs": [],
   "source": [
    "n=int(input(\"enter a number:\"))\n",
    "(n%5==0) or (n>10)"
   ]
  },
  {
   "cell_type": "markdown",
   "metadata": {},
   "source": [
    "#### not(True) and not(False)"
   ]
  },
  {
   "cell_type": "code",
   "execution_count": null,
   "metadata": {},
   "outputs": [],
   "source": [
    "#not(True)\n",
    "n=int(input('ENTER A NUMBER:'))\n",
    "not(n%5==0)"
   ]
  },
  {
   "cell_type": "code",
   "execution_count": null,
   "metadata": {},
   "outputs": [],
   "source": [
    "#not(false) by implicit conversion\n",
    "print(10*(5-5))\n",
    "print(not(10*(5-5)))#implicit conversion"
   ]
  },
  {
   "cell_type": "markdown",
   "metadata": {},
   "source": [
    "### ASSIGNMENT OPERATOR-ACT AS A COMPOUND:-"
   ]
  },
  {
   "cell_type": "code",
   "execution_count": null,
   "metadata": {},
   "outputs": [],
   "source": [
    "a=10\n",
    "a=a+20\n",
    "print(a)"
   ]
  },
  {
   "cell_type": "code",
   "execution_count": null,
   "metadata": {},
   "outputs": [],
   "source": [
    "b=10\n",
    "b+=20\n",
    "print(b)"
   ]
  },
  {
   "cell_type": "code",
   "execution_count": null,
   "metadata": {},
   "outputs": [],
   "source": [
    "c=10\n",
    "c*=((2/3)+4)\n",
    "print(c)"
   ]
  },
  {
   "cell_type": "markdown",
   "metadata": {},
   "source": [
    "### MEMBERSHIP OPERATORS:-"
   ]
  },
  {
   "cell_type": "markdown",
   "metadata": {},
   "source": [
    "#### CHECK WHETHER A VALUE IS A MEMBER OF A SEQUENCE"
   ]
  },
  {
   "cell_type": "markdown",
   "metadata": {},
   "source": [
    "#### EX:\n"
   ]
  },
  {
   "cell_type": "code",
   "execution_count": null,
   "metadata": {},
   "outputs": [],
   "source": [
    "'a' in 'abcd'"
   ]
  },
  {
   "cell_type": "code",
   "execution_count": null,
   "metadata": {},
   "outputs": [],
   "source": [
    "\"a\" not in \"abcd\""
   ]
  },
  {
   "cell_type": "markdown",
   "metadata": {},
   "source": [
    "#### SEQUENCE OBJECT :\n",
    "A SEQUENCE IS DEFINED AS A CALCULATION OF ARBITARY NUMBER OF ELEMENTS.THE SEQUENCE MAY BE A LIST,STRING,TUPLE,DICTIONARY"
   ]
  },
  {
   "cell_type": "markdown",
   "metadata": {},
   "source": [
    "#### in-THE in OPERATOR IS USED TO CHECK IF A VALUE EXISTS IN ANY SEQUENCE OBJECT OR NOT\n",
    "#### not in-A not in OPERATOR WORKS IN OPPOSITE WAY TO AN OPERATOR.A 'not in' evaluates to True if a value is not found in the specified sequence object.Else it returns a False."
   ]
  },
  {
   "cell_type": "markdown",
   "metadata": {},
   "source": [
    "### MEMBERSHIP OPERATOR NOT APPLICABLE:TO INTEGER,FLOAT"
   ]
  },
  {
   "cell_type": "markdown",
   "metadata": {},
   "source": [
    "### MEMBERSHIP OPERATOR APPLICABLE:TO CONTAINERS"
   ]
  },
  {
   "cell_type": "markdown",
   "metadata": {},
   "source": [
    "#### EXAMPLES:"
   ]
  },
  {
   "cell_type": "markdown",
   "metadata": {},
   "source": [
    "#### wap to take radius of circle as i/p and print the area of circle and circumference of circle"
   ]
  },
  {
   "cell_type": "code",
   "execution_count": null,
   "metadata": {},
   "outputs": [],
   "source": [
    "r=float(input('ENTER THE RADIUS OF THE CIRCLE:'))\n",
    "a=3.141*(r**2)\n",
    "c=2*3.141*r\n",
    "print(\"THE AREA AND CIRCUMFERENCE IS\",a,\"and\",c)"
   ]
  },
  {
   "cell_type": "markdown",
   "metadata": {},
   "source": [
    "#### wap to calculate the hypoteneous of a right angled triangle when sides are given"
   ]
  },
  {
   "cell_type": "code",
   "execution_count": null,
   "metadata": {},
   "outputs": [],
   "source": [
    "import math as m\n",
    "h=int(input('ENTER THE HEIGHT OF THE TRIANGLE:'))\n",
    "b=int(input('ENTER THE BASE OF THE TRIANGLE:'))\n",
    "hyp=round(m.sqrt((h**2) + (b**2)),2)\n",
    "print('THE HYPOTENEOUS OF A RIGHT ANGLED TRIANGLE IS',hyp)"
   ]
  },
  {
   "cell_type": "code",
   "execution_count": 18,
   "metadata": {},
   "outputs": [
    {
     "name": "stdout",
     "output_type": "stream",
     "text": [
      "ENTER THE HEIGHT OF THE TRIANGLE:15\n",
      "ENTER THE BASE OF THE TRIANGLE:10\n",
      "THE HYPOTENEOUS OF A RIGHT ANGLED TRIANGLE IS 18.03\n"
     ]
    }
   ],
   "source": [
    "h=int(input('ENTER THE HEIGHT OF THE TRIANGLE:'))\n",
    "b=int(input('ENTER THE BASE OF THE TRIANGLE:'))\n",
    "hyp=round((((h**2) + (b**2)))**0.5,2)\n",
    "print('THE HYPOTENEOUS OF A RIGHT ANGLED TRIANGLE IS',hyp)"
   ]
  },
  {
   "cell_type": "markdown",
   "metadata": {},
   "source": [
    "### CONDITIONAL STATEMENT:"
   ]
  },
  {
   "cell_type": "markdown",
   "metadata": {},
   "source": [
    "#### wap to check if a no is even or odd"
   ]
  },
  {
   "cell_type": "code",
   "execution_count": null,
   "metadata": {},
   "outputs": [],
   "source": [
    "n=int(input(\"ENTER A NUMBER:\"))\n",
    "if n%2==0:\n",
    "    print(n,\"is even\")\n",
    "else:\n",
    "    print(n,\"is odd\")"
   ]
  },
  {
   "cell_type": "markdown",
   "metadata": {},
   "source": [
    "#### wap to check if entered name is present in the mentioned list or not"
   ]
  },
  {
   "cell_type": "code",
   "execution_count": null,
   "metadata": {},
   "outputs": [],
   "source": [
    "names=[\"Jane\",\"George\",\"Sam\"]\n",
    "name=input(\"Enter your name:\")\n",
    "if name in names:\n",
    "    print(\"Present\")\n",
    "else:\n",
    "    print(\"Absent\")"
   ]
  },
  {
   "cell_type": "markdown",
   "metadata": {},
   "source": [
    "#### wap to check if entered character is a vowel or not"
   ]
  },
  {
   "cell_type": "code",
   "execution_count": 19,
   "metadata": {},
   "outputs": [
    {
     "name": "stdout",
     "output_type": "stream",
     "text": [
      "Enter Your Character:ram\n",
      "ram Character is not a vowel\n"
     ]
    }
   ],
   "source": [
    "\n",
    "ch=input(\"Enter Your Character:\")\n",
    "if ch in \"aeiou\":\n",
    "    print(ch,\"Character is a vowel\")\n",
    "else:\n",
    "    print(ch,\"Character is not a vowel\")"
   ]
  },
  {
   "cell_type": "code",
   "execution_count": 20,
   "metadata": {},
   "outputs": [
    {
     "name": "stdout",
     "output_type": "stream",
     "text": [
      "Enter Your Character:ram\n",
      "ram is not a vowel\n"
     ]
    }
   ],
   "source": [
    "vowel=['a','e','i','o','u']\n",
    "ch=input(\"Enter Your Character:\")\n",
    "if ch in vowel:\n",
    "    print(ch,\"is a vowel\")\n",
    "else:\n",
    "    print(ch,\"is not a vowel\")"
   ]
  },
  {
   "cell_type": "markdown",
   "metadata": {},
   "source": [
    "## ITERATION OVER A SEQUENCE"
   ]
  },
  {
   "cell_type": "markdown",
   "metadata": {},
   "source": [
    "#### ex:wap to sum elements in list numbers=[2,1,5,3,7,4]"
   ]
  },
  {
   "cell_type": "code",
   "execution_count": 5,
   "metadata": {},
   "outputs": [
    {
     "name": "stdout",
     "output_type": "stream",
     "text": [
      "2 - 2\n",
      "1 - 3\n",
      "5 - 8\n",
      "3 - 11\n",
      "7 - 18\n",
      "4 - 22\n"
     ]
    }
   ],
   "source": [
    "numbers=[2,1,5,3,7,4]\n",
    "total=0\n",
    "for i in numbers:\n",
    "    total+=i\n",
    "    print(i,\"-\",total)"
   ]
  },
  {
   "cell_type": "code",
   "execution_count": 6,
   "metadata": {},
   "outputs": [
    {
     "name": "stdout",
     "output_type": "stream",
     "text": [
      "2\n",
      "3\n",
      "8\n",
      "11\n",
      "18\n",
      "22\n"
     ]
    }
   ],
   "source": [
    "number=[2,1,5,3,7,4]\n",
    "total=0\n",
    "for i in numbers:\n",
    "    total+=i\n",
    "    print(total)"
   ]
  },
  {
   "cell_type": "code",
   "execution_count": 7,
   "metadata": {},
   "outputs": [
    {
     "name": "stdout",
     "output_type": "stream",
     "text": [
      "22\n"
     ]
    }
   ],
   "source": [
    "numbers=[2,1,5,3,7,4]\n",
    "total=0\n",
    "for i in numbers:\n",
    "    total+=i\n",
    "print(total)    "
   ]
  },
  {
   "cell_type": "markdown",
   "metadata": {},
   "source": [
    "#### wap to iterate over a string entered by user and print all vowels in the string"
   ]
  },
  {
   "cell_type": "code",
   "execution_count": 2,
   "metadata": {},
   "outputs": [
    {
     "name": "stdout",
     "output_type": "stream",
     "text": [
      "ENTER A STRING:singapore\n",
      "s\n",
      "i\n",
      "n\n",
      "g\n",
      "a\n",
      "p\n",
      "o\n",
      "r\n",
      "e\n"
     ]
    }
   ],
   "source": [
    "string=input('ENTER A STRING:')\n",
    "for ch in string:\n",
    "    print(ch)"
   ]
  },
  {
   "cell_type": "code",
   "execution_count": 21,
   "metadata": {},
   "outputs": [
    {
     "name": "stdout",
     "output_type": "stream",
     "text": [
      "Enter a string:ramkumar\n",
      "r\n",
      "a\n",
      "m\n",
      "k\n",
      "u\n",
      "m\n",
      "a\n",
      "r\n"
     ]
    }
   ],
   "source": [
    "string=input('Enter a string:')\n",
    "for ch in string:\n",
    "    print(ch)"
   ]
  },
  {
   "cell_type": "code",
   "execution_count": 1,
   "metadata": {},
   "outputs": [
    {
     "name": "stdout",
     "output_type": "stream",
     "text": [
      "i\n",
      "a\n",
      "o\n",
      "e\n"
     ]
    }
   ],
   "source": [
    "string='singapore'\n",
    "\n",
    "for ch in string:\n",
    "    if ch in 'aeiou':\n",
    "        print(ch)"
   ]
  },
  {
   "cell_type": "markdown",
   "metadata": {},
   "source": [
    "#### wap to print product of first 10 natural numbers"
   ]
  },
  {
   "cell_type": "code",
   "execution_count": 3,
   "metadata": {},
   "outputs": [
    {
     "name": "stdout",
     "output_type": "stream",
     "text": [
      "1\n",
      "2\n",
      "3\n",
      "4\n",
      "5\n",
      "6\n",
      "7\n",
      "8\n",
      "9\n",
      "10\n"
     ]
    }
   ],
   "source": [
    "numbers=[1,2,3,4,5,6,7,8,9,10]\n",
    "for i in numbers:\n",
    "    print(i)"
   ]
  },
  {
   "cell_type": "code",
   "execution_count": 4,
   "metadata": {},
   "outputs": [
    {
     "name": "stdout",
     "output_type": "stream",
     "text": [
      "1\n",
      "2\n",
      "6\n",
      "24\n",
      "120\n",
      "720\n",
      "5040\n",
      "40320\n",
      "362880\n",
      "3628800\n"
     ]
    }
   ],
   "source": [
    "numbers=[1,2,3,4,5,6,7,8,9,10]\n",
    "total=1\n",
    "for i in numbers:\n",
    "    total*=i\n",
    "    print(total)"
   ]
  },
  {
   "cell_type": "code",
   "execution_count": 9,
   "metadata": {},
   "outputs": [
    {
     "name": "stdout",
     "output_type": "stream",
     "text": [
      "3628800\n"
     ]
    }
   ],
   "source": [
    "numbers=[1,2,3,4,5,6,7,8,9,10]\n",
    "total=1\n",
    "for i in numbers:\n",
    "    total*=i\n",
    "print(total)"
   ]
  },
  {
   "cell_type": "markdown",
   "metadata": {},
   "source": [
    "#### range function"
   ]
  },
  {
   "cell_type": "code",
   "execution_count": 10,
   "metadata": {},
   "outputs": [
    {
     "data": {
      "text/plain": [
       "range(1, 10)"
      ]
     },
     "execution_count": 10,
     "metadata": {},
     "output_type": "execute_result"
    }
   ],
   "source": [
    "range(1,10)"
   ]
  },
  {
   "cell_type": "code",
   "execution_count": 13,
   "metadata": {},
   "outputs": [
    {
     "name": "stdout",
     "output_type": "stream",
     "text": [
      "1\n",
      "2\n",
      "3\n",
      "4\n",
      "5\n",
      "6\n",
      "7\n",
      "8\n",
      "9\n",
      "10\n"
     ]
    }
   ],
   "source": [
    "for i in range(1,11):\n",
    "    print(i)\n"
   ]
  },
  {
   "cell_type": "code",
   "execution_count": 14,
   "metadata": {},
   "outputs": [
    {
     "data": {
      "text/plain": [
       "True"
      ]
     },
     "execution_count": 14,
     "metadata": {},
     "output_type": "execute_result"
    }
   ],
   "source": [
    "5 in range(1,11)"
   ]
  },
  {
   "cell_type": "code",
   "execution_count": 15,
   "metadata": {},
   "outputs": [
    {
     "name": "stdout",
     "output_type": "stream",
     "text": [
      "3628800\n"
     ]
    }
   ],
   "source": [
    "total=1\n",
    "for i in range(1,11):\n",
    "    total*=i\n",
    "print(total)"
   ]
  },
  {
   "cell_type": "markdown",
   "metadata": {},
   "source": [
    "#### wap to print product of first 100 natural numbers"
   ]
  },
  {
   "cell_type": "code",
   "execution_count": 16,
   "metadata": {},
   "outputs": [
    {
     "name": "stdout",
     "output_type": "stream",
     "text": [
      "93326215443944152681699238856266700490715968264381621468592963895217599993229915608941463976156518286253697920827223758251185210916864000000000000000000000000\n"
     ]
    }
   ],
   "source": [
    "total=1\n",
    "for i in range(1,101):\n",
    "    total*=i\n",
    "print(total)"
   ]
  },
  {
   "cell_type": "markdown",
   "metadata": {},
   "source": [
    "#### wap to print sum of first 100 natural numbers"
   ]
  },
  {
   "cell_type": "code",
   "execution_count": 17,
   "metadata": {},
   "outputs": [
    {
     "name": "stdout",
     "output_type": "stream",
     "text": [
      "5050\n"
     ]
    }
   ],
   "source": [
    "total=0\n",
    "for i in range(1,101):\n",
    "    total+=i\n",
    "print(total)"
   ]
  },
  {
   "cell_type": "markdown",
   "metadata": {},
   "source": [
    "#### wap to print sum of all even numbers between 1 to 50"
   ]
  },
  {
   "cell_type": "code",
   "execution_count": 19,
   "metadata": {},
   "outputs": [
    {
     "name": "stdout",
     "output_type": "stream",
     "text": [
      "650\n"
     ]
    }
   ],
   "source": [
    "total=0\n",
    "for i in range(1,51):\n",
    "    if i % 2==0:\n",
    "        total+=i\n",
    "print(total)"
   ]
  },
  {
   "cell_type": "code",
   "execution_count": 20,
   "metadata": {},
   "outputs": [
    {
     "name": "stdout",
     "output_type": "stream",
     "text": [
      "2\n",
      "4\n",
      "6\n",
      "8\n",
      "10\n",
      "12\n",
      "14\n",
      "16\n",
      "18\n",
      "20\n",
      "22\n",
      "24\n",
      "26\n",
      "28\n",
      "30\n",
      "32\n",
      "34\n",
      "36\n",
      "38\n",
      "40\n",
      "42\n",
      "44\n",
      "46\n",
      "48\n",
      "50\n"
     ]
    }
   ],
   "source": [
    "total=0\n",
    "for i in range(1,51):\n",
    "    if(i%2==0):\n",
    "        print(i)"
   ]
  }
 ],
 "metadata": {
  "kernelspec": {
   "display_name": "Python 3",
   "language": "python",
   "name": "python3"
  },
  "language_info": {
   "codemirror_mode": {
    "name": "ipython",
    "version": 3
   },
   "file_extension": ".py",
   "mimetype": "text/x-python",
   "name": "python",
   "nbconvert_exporter": "python",
   "pygments_lexer": "ipython3",
   "version": "3.7.4"
  }
 },
 "nbformat": 4,
 "nbformat_minor": 2
}
