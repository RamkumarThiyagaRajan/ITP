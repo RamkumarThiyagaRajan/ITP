{
 "cells": [
  {
   "cell_type": "markdown",
   "metadata": {},
   "source": [
    "# ITP DAY 3 18-08-2021"
   ]
  },
  {
   "cell_type": "markdown",
   "metadata": {},
   "source": [
    "### SETS IN PHYTON"
   ]
  },
  {
   "cell_type": "markdown",
   "metadata": {},
   "source": [
    "#### PHYTON CONTAINERS\n",
    "#### UNORDERED SEQUENCE OF MIXED DATA(IMMUTABLE OBJECTS)-SO SET INSIDE SET NOT POSSIBLE\n",
    "##### DIFF B/W ORDERED AND UNORDER-UNORDER HAVE NO INDEX BUT ORDER HAVE INDEX\n",
    "#### MUTABLE\n",
    "#### DO NOT ALLOW DUPLICATES\n",
    "#### ALLOW SET OPERATION ON DATA"
   ]
  },
  {
   "cell_type": "markdown",
   "metadata": {},
   "source": [
    "##### CREATING A SET"
   ]
  },
  {
   "cell_type": "code",
   "execution_count": 2,
   "metadata": {},
   "outputs": [
    {
     "data": {
      "text/plain": [
       "{10, 20, 30, 40}"
      ]
     },
     "execution_count": 2,
     "metadata": {},
     "output_type": "execute_result"
    }
   ],
   "source": [
    "s={10,30,20,40}\n",
    "s #sets store elements randomly but not ascending"
   ]
  },
  {
   "cell_type": "markdown",
   "metadata": {},
   "source": [
    "##### EMPTY SET"
   ]
  },
  {
   "cell_type": "code",
   "execution_count": 3,
   "metadata": {},
   "outputs": [
    {
     "data": {
      "text/plain": [
       "set"
      ]
     },
     "execution_count": 3,
     "metadata": {},
     "output_type": "execute_result"
    }
   ],
   "source": [
    "set()\n",
    "type(set())"
   ]
  },
  {
   "cell_type": "markdown",
   "metadata": {},
   "source": [
    "###### bool() of empty set is always false"
   ]
  },
  {
   "cell_type": "markdown",
   "metadata": {},
   "source": [
    "##### SET METHODS"
   ]
  },
  {
   "cell_type": "markdown",
   "metadata": {},
   "source": [
    "#### add elements\n",
    "#### remove elements"
   ]
  },
  {
   "cell_type": "code",
   "execution_count": 4,
   "metadata": {},
   "outputs": [
    {
     "name": "stdout",
     "output_type": "stream",
     "text": [
      "{40, 10, 50, 20, 30}\n"
     ]
    }
   ],
   "source": [
    "s.add(50)\n",
    "print(s)"
   ]
  },
  {
   "cell_type": "code",
   "execution_count": 5,
   "metadata": {},
   "outputs": [
    {
     "name": "stdout",
     "output_type": "stream",
     "text": [
      "{40, 'abcd', 10, 50, 20, 30}\n"
     ]
    }
   ],
   "source": [
    "s.add(\"abcd\")\n",
    "print(s)"
   ]
  },
  {
   "cell_type": "code",
   "execution_count": 7,
   "metadata": {},
   "outputs": [
    {
     "name": "stdout",
     "output_type": "stream",
     "text": [
      "{40, 'abcd', 10, (1, 2, 3), 50, 20, 30}\n"
     ]
    }
   ],
   "source": [
    "s.add((1,2,3))\n",
    "print(s)"
   ]
  },
  {
   "cell_type": "code",
   "execution_count": 8,
   "metadata": {},
   "outputs": [
    {
     "ename": "TypeError",
     "evalue": "unhashable type: 'list'",
     "output_type": "error",
     "traceback": [
      "\u001b[1;31m---------------------------------------------------------------------------\u001b[0m",
      "\u001b[1;31mTypeError\u001b[0m                                 Traceback (most recent call last)",
      "\u001b[1;32m<ipython-input-8-34448ddb2cf0>\u001b[0m in \u001b[0;36m<module>\u001b[1;34m\u001b[0m\n\u001b[1;32m----> 1\u001b[1;33m \u001b[0ms\u001b[0m\u001b[1;33m.\u001b[0m\u001b[0madd\u001b[0m\u001b[1;33m(\u001b[0m\u001b[1;33m[\u001b[0m\u001b[1;36m1\u001b[0m\u001b[1;33m,\u001b[0m\u001b[1;36m2\u001b[0m\u001b[1;33m,\u001b[0m\u001b[1;36m3\u001b[0m\u001b[1;33m]\u001b[0m\u001b[1;33m)\u001b[0m\u001b[1;33m\u001b[0m\u001b[1;33m\u001b[0m\u001b[0m\n\u001b[0m",
      "\u001b[1;31mTypeError\u001b[0m: unhashable type: 'list'"
     ]
    }
   ],
   "source": [
    "s.add([1,2,3])#we cannot add list inside a set"
   ]
  },
  {
   "cell_type": "markdown",
   "metadata": {},
   "source": [
    "#### set updates-take a sequence object as parameter and adds all the elements from the sequence to the set"
   ]
  },
  {
   "cell_type": "code",
   "execution_count": 9,
   "metadata": {},
   "outputs": [
    {
     "name": "stdout",
     "output_type": "stream",
     "text": [
      "{6, 7, 40, 'abcd', 10, (1, 2, 3), 50, 20, 30}\n"
     ]
    }
   ],
   "source": [
    "s.update([6,7])\n",
    "print(s)#but we can update list inside a set"
   ]
  },
  {
   "cell_type": "code",
   "execution_count": 10,
   "metadata": {},
   "outputs": [
    {
     "name": "stdout",
     "output_type": "stream",
     "text": [
      "{'a', 6, 7, 40, 'abcd', 10, (1, 2, 3), 50, 20, 'b', 30}\n"
     ]
    }
   ],
   "source": [
    "s.update('ab')\n",
    "print(s)"
   ]
  },
  {
   "cell_type": "code",
   "execution_count": 11,
   "metadata": {},
   "outputs": [
    {
     "name": "stdout",
     "output_type": "stream",
     "text": [
      "{'a', 6, 7, 40, 'abcd', 10, 13, (1, 2, 3), 'abc', 50, 20, 'b', 30}\n"
     ]
    }
   ],
   "source": [
    "s.update([13,'abc'])\n",
    "print(s)"
   ]
  },
  {
   "cell_type": "markdown",
   "metadata": {},
   "source": [
    "#### pop()-removes a random element from the set"
   ]
  },
  {
   "cell_type": "code",
   "execution_count": 12,
   "metadata": {},
   "outputs": [
    {
     "name": "stdout",
     "output_type": "stream",
     "text": [
      "{6, 7, 40, 'abcd', 10, 13, (1, 2, 3), 'abc', 50, 20, 'b', 30}\n"
     ]
    }
   ],
   "source": [
    "s.pop()#pop remove last element but not in set,it removes randomly\n",
    "print(s)"
   ]
  },
  {
   "cell_type": "markdown",
   "metadata": {},
   "source": [
    "#### remove()-removes a specific element from the set"
   ]
  },
  {
   "cell_type": "code",
   "execution_count": 13,
   "metadata": {},
   "outputs": [
    {
     "name": "stdout",
     "output_type": "stream",
     "text": [
      "{6, 7, 'abcd', 10, 13, (1, 2, 3), 'abc', 50, 20, 'b', 30}\n"
     ]
    }
   ],
   "source": [
    "s.remove(40)\n",
    "print(s)"
   ]
  },
  {
   "cell_type": "markdown",
   "metadata": {},
   "source": [
    "##### SET STORE IN RANDOM,SET CAN BE SORTED BUT SHOWS IN LIST"
   ]
  },
  {
   "cell_type": "markdown",
   "metadata": {},
   "source": [
    "### operations on set"
   ]
  },
  {
   "cell_type": "markdown",
   "metadata": {},
   "source": [
    "##### ITERATION\n",
    "#### MEMBERSHIP\n",
    "#### UNION INTERSECTION DIFFERENCE SYMMETRIC DIFFERENCE"
   ]
  },
  {
   "cell_type": "code",
   "execution_count": null,
   "metadata": {},
   "outputs": [],
   "source": [
    "s1={1,2,3,4,5}\n",
    "s2={4,5,6,7,8}\n"
   ]
  },
  {
   "cell_type": "code",
   "execution_count": null,
   "metadata": {},
   "outputs": [],
   "source": [
    "s1|s2#union"
   ]
  },
  {
   "cell_type": "code",
   "execution_count": null,
   "metadata": {},
   "outputs": [],
   "source": [
    "s1&s2#intersection"
   ]
  },
  {
   "cell_type": "code",
   "execution_count": 15,
   "metadata": {},
   "outputs": [],
   "source": [
    "c={\"Jane\",\"Sam\",\"George\",\"Dori\",\"Derek\"}\n",
    "t={\"Jack\",\"Frank\",\"Cody\",\"Dori\",\"Bill\",\"Maria\",\"Derek\"}"
   ]
  },
  {
   "cell_type": "markdown",
   "metadata": {},
   "source": [
    "##### ENTIRE SET OF PEOPLE"
   ]
  },
  {
   "cell_type": "code",
   "execution_count": 23,
   "metadata": {},
   "outputs": [
    {
     "name": "stdout",
     "output_type": "stream",
     "text": [
      "{'Derek', 'Frank', 'Dori', 'Bill', 'Sam', 'Maria', 'Jane', 'George', 'Cody', 'Jack'}\n",
      "10\n"
     ]
    }
   ],
   "source": [
    "print(c|t)\n",
    "print(len(c|t))"
   ]
  },
  {
   "cell_type": "markdown",
   "metadata": {},
   "source": [
    "##### BOTH"
   ]
  },
  {
   "cell_type": "code",
   "execution_count": 19,
   "metadata": {},
   "outputs": [
    {
     "name": "stdout",
     "output_type": "stream",
     "text": [
      "{'Derek', 'Dori'}\n"
     ]
    }
   ],
   "source": [
    "print(c&t)"
   ]
  },
  {
   "cell_type": "markdown",
   "metadata": {},
   "source": [
    "##### EITHER"
   ]
  },
  {
   "cell_type": "code",
   "execution_count": 24,
   "metadata": {},
   "outputs": [
    {
     "name": "stdout",
     "output_type": "stream",
     "text": [
      "{'Frank', 'Bill', 'Sam', 'Maria', 'Jane', 'George', 'Cody', 'Jack'}\n"
     ]
    }
   ],
   "source": [
    "print(c^t)"
   ]
  },
  {
   "cell_type": "markdown",
   "metadata": {},
   "source": [
    "##### ONLY COFFEE"
   ]
  },
  {
   "cell_type": "code",
   "execution_count": 25,
   "metadata": {},
   "outputs": [
    {
     "name": "stdout",
     "output_type": "stream",
     "text": [
      "{'Jane', 'Sam', 'George'}\n"
     ]
    }
   ],
   "source": [
    "print(c-t)"
   ]
  },
  {
   "cell_type": "markdown",
   "metadata": {},
   "source": [
    "#### ONLY TEA"
   ]
  },
  {
   "cell_type": "code",
   "execution_count": 26,
   "metadata": {},
   "outputs": [
    {
     "name": "stdout",
     "output_type": "stream",
     "text": [
      "{'Frank', 'Bill', 'Maria', 'Cody', 'Jack'}\n"
     ]
    }
   ],
   "source": [
    "print(t-c)"
   ]
  },
  {
   "cell_type": "markdown",
   "metadata": {},
   "source": [
    "#### DISJOINT SET:if two sets have no common elements"
   ]
  },
  {
   "cell_type": "code",
   "execution_count": 28,
   "metadata": {},
   "outputs": [
    {
     "data": {
      "text/plain": [
       "True"
      ]
     },
     "execution_count": 28,
     "metadata": {},
     "output_type": "execute_result"
    }
   ],
   "source": [
    "c={\"Sam\",\"George\",\"Jane\"}\n",
    "t={\"Bill\",\"Maria\",\"Frank\",\"Jack\",\"Cody\"}\n",
    "c.isdisjoint(t)"
   ]
  },
  {
   "cell_type": "markdown",
   "metadata": {},
   "source": [
    "##### CHECKING FOR SUBSET"
   ]
  },
  {
   "cell_type": "code",
   "execution_count": 30,
   "metadata": {},
   "outputs": [
    {
     "data": {
      "text/plain": [
       "True"
      ]
     },
     "execution_count": 30,
     "metadata": {},
     "output_type": "execute_result"
    }
   ],
   "source": [
    "c={\"Sam\",\"George\",\"Jane\"}\n",
    "p={\"Bill\",\"Maria\",\"Frank\",\"Jack\",\"Cody\",\"Sam\",\"George\",\"Jane\"}\n",
    "c.issubset(p)"
   ]
  },
  {
   "cell_type": "code",
   "execution_count": 31,
   "metadata": {},
   "outputs": [
    {
     "data": {
      "text/plain": [
       "True"
      ]
     },
     "execution_count": 31,
     "metadata": {},
     "output_type": "execute_result"
    }
   ],
   "source": [
    "p.issuperset(c)"
   ]
  },
  {
   "cell_type": "markdown",
   "metadata": {},
   "source": [
    "##### BUILT-IN FUNCTIONS ON  SETS"
   ]
  },
  {
   "cell_type": "code",
   "execution_count": 40,
   "metadata": {},
   "outputs": [
    {
     "name": "stdout",
     "output_type": "stream",
     "text": [
      "{40, 10, 50, 20, 30}\n"
     ]
    }
   ],
   "source": [
    "#len()\n",
    "#min()\n",
    "#max()\n",
    "#sum()\n",
    "#sorted()\n",
    "set_a={10,20,30,40,50,20}\n",
    "print(set_a)"
   ]
  },
  {
   "cell_type": "code",
   "execution_count": 35,
   "metadata": {},
   "outputs": [
    {
     "data": {
      "text/plain": [
       "5"
      ]
     },
     "execution_count": 35,
     "metadata": {},
     "output_type": "execute_result"
    }
   ],
   "source": [
    "len(set_a)"
   ]
  },
  {
   "cell_type": "code",
   "execution_count": 36,
   "metadata": {},
   "outputs": [
    {
     "data": {
      "text/plain": [
       "10"
      ]
     },
     "execution_count": 36,
     "metadata": {},
     "output_type": "execute_result"
    }
   ],
   "source": [
    "min(set_a)"
   ]
  },
  {
   "cell_type": "code",
   "execution_count": 37,
   "metadata": {},
   "outputs": [
    {
     "data": {
      "text/plain": [
       "50"
      ]
     },
     "execution_count": 37,
     "metadata": {},
     "output_type": "execute_result"
    }
   ],
   "source": [
    "max(set_a)"
   ]
  },
  {
   "cell_type": "code",
   "execution_count": 38,
   "metadata": {},
   "outputs": [
    {
     "data": {
      "text/plain": [
       "[10, 20, 30, 40, 50]"
      ]
     },
     "execution_count": 38,
     "metadata": {},
     "output_type": "execute_result"
    }
   ],
   "source": [
    "sorted(set_a)"
   ]
  },
  {
   "cell_type": "code",
   "execution_count": 39,
   "metadata": {},
   "outputs": [
    {
     "data": {
      "text/plain": [
       "150"
      ]
     },
     "execution_count": 39,
     "metadata": {},
     "output_type": "execute_result"
    }
   ],
   "source": [
    "sum(set_a)"
   ]
  },
  {
   "cell_type": "markdown",
   "metadata": {},
   "source": [
    "##### wap to print all the vowels in a string"
   ]
  },
  {
   "cell_type": "code",
   "execution_count": 42,
   "metadata": {},
   "outputs": [
    {
     "name": "stdout",
     "output_type": "stream",
     "text": [
      "Enter a string:singappore\n"
     ]
    },
    {
     "data": {
      "text/plain": [
       "{'a', 'e', 'i', 'o'}"
      ]
     },
     "execution_count": 42,
     "metadata": {},
     "output_type": "execute_result"
    }
   ],
   "source": [
    "string=input(\"Enter a string:\")\n",
    "string=set(string.lower())\n",
    "vowels=set(\"aeiou\")\n",
    "\n",
    "string & vowels"
   ]
  },
  {
   "cell_type": "code",
   "execution_count": 43,
   "metadata": {},
   "outputs": [
    {
     "name": "stdout",
     "output_type": "stream",
     "text": [
      "Enter a string:singappore\n"
     ]
    },
    {
     "data": {
      "text/plain": [
       "{'a', 'e', 'i', 'o'}"
      ]
     },
     "execution_count": 43,
     "metadata": {},
     "output_type": "execute_result"
    }
   ],
   "source": [
    "string=set(input(\"Enter a string:\"))\n",
    "\n",
    "vowels=set(\"aeiou\")\n",
    "\n",
    "string & vowels"
   ]
  },
  {
   "cell_type": "markdown",
   "metadata": {},
   "source": [
    "## DICTIONARY"
   ]
  },
  {
   "cell_type": "markdown",
   "metadata": {},
   "source": [
    "### ARE PHYTON CONTAINERS\n",
    "### ARE UNORDERED SEQUENCE OF MIXED DATA\n",
    "### KEY:VALUES\n",
    "### KEYS ARE ALWAYS UNIQUE AND IMMUTABLE\n",
    "### VALUES NEED NOT TO BE UNIQUE AND CAN BR OF ANY TYPE\n",
    "### MUTABLE"
   ]
  },
  {
   "cell_type": "markdown",
   "metadata": {},
   "source": [
    "#### EMPTY DICTIONARY"
   ]
  },
  {
   "cell_type": "code",
   "execution_count": 44,
   "metadata": {},
   "outputs": [],
   "source": [
    "empty_dict={}\n",
    "empty_dict=dict()"
   ]
  },
  {
   "cell_type": "markdown",
   "metadata": {},
   "source": [
    "#### create adictionary"
   ]
  },
  {
   "cell_type": "code",
   "execution_count": 48,
   "metadata": {},
   "outputs": [],
   "source": [
    "countries={\"India\":\"INR\",\"USA\":\"Dollar\"}"
   ]
  },
  {
   "cell_type": "code",
   "execution_count": 46,
   "metadata": {},
   "outputs": [
    {
     "data": {
      "text/plain": [
       "'INR'"
      ]
     },
     "execution_count": 46,
     "metadata": {},
     "output_type": "execute_result"
    }
   ],
   "source": [
    "countries[\"India\"]"
   ]
  },
  {
   "cell_type": "code",
   "execution_count": 47,
   "metadata": {},
   "outputs": [
    {
     "name": "stdout",
     "output_type": "stream",
     "text": [
      "None\n"
     ]
    }
   ],
   "source": [
    "print(countries.get(\"japan\"))"
   ]
  },
  {
   "cell_type": "markdown",
   "metadata": {},
   "source": [
    "#### ADDING NEW ELEMENT TO DICTIONARY"
   ]
  },
  {
   "cell_type": "code",
   "execution_count": 49,
   "metadata": {},
   "outputs": [
    {
     "name": "stdout",
     "output_type": "stream",
     "text": [
      "{'India': 'INR', 'USA': 'Dollar', 'Japan': 'Yen'}\n"
     ]
    }
   ],
   "source": [
    "countries[\"Japan\"]=\"Yen\"\n",
    "print(countries)"
   ]
  },
  {
   "cell_type": "markdown",
   "metadata": {},
   "source": [
    "#### MODIFY"
   ]
  },
  {
   "cell_type": "code",
   "execution_count": 50,
   "metadata": {},
   "outputs": [
    {
     "name": "stdout",
     "output_type": "stream",
     "text": [
      "{'India': 'Rupees', 'USA': 'Dollar', 'Japan': 'Yen'}\n"
     ]
    }
   ],
   "source": [
    "countries[\"India\"]=\"Rupees\"\n",
    "print(countries)"
   ]
  },
  {
   "cell_type": "markdown",
   "metadata": {},
   "source": [
    "#### add content"
   ]
  },
  {
   "cell_type": "code",
   "execution_count": 52,
   "metadata": {},
   "outputs": [
    {
     "name": "stdout",
     "output_type": "stream",
     "text": [
      "{'India': 'INR', 'USA': 'Dollar', 'Japan': 'Yen', 'Singappore': 'SGD', 'Thailand': 'Bhat', 'Indonesia': 'IDR'}\n"
     ]
    }
   ],
   "source": [
    "new_dict={\"Singappore\":\"SGD\",\"Thailand\":\"Bhat\",\"Indonesia\":\"IDR\",\"India\":\"INR\"}\n",
    "countries.update(new_dict)\n",
    "print(countries)"
   ]
  },
  {
   "cell_type": "code",
   "execution_count": 53,
   "metadata": {},
   "outputs": [
    {
     "name": "stdout",
     "output_type": "stream",
     "text": [
      "{'India': {'Capital': 'NewDelhi', 'Curency': 'INR'}, 'USA': 'Dollar', 'Japan': 'Yen', 'Singappore': 'SGD', 'Thailand': 'Bhat', 'Indonesia': 'IDR'}\n"
     ]
    }
   ],
   "source": [
    "countries.update({\"India\":{\"Capital\":\"NewDelhi\",\"Curency\":\"INR\"}})\n",
    "print(countries)"
   ]
  },
  {
   "cell_type": "code",
   "execution_count": 54,
   "metadata": {},
   "outputs": [
    {
     "data": {
      "text/plain": [
       "'NewDelhi'"
      ]
     },
     "execution_count": 54,
     "metadata": {},
     "output_type": "execute_result"
    }
   ],
   "source": [
    "countries[\"India\"][\"Capital\"]"
   ]
  },
  {
   "cell_type": "markdown",
   "metadata": {},
   "source": [
    "#### remove element"
   ]
  },
  {
   "cell_type": "code",
   "execution_count": 55,
   "metadata": {},
   "outputs": [
    {
     "name": "stdout",
     "output_type": "stream",
     "text": [
      "{'India': {'Capital': 'NewDelhi', 'Curency': 'INR'}, 'Japan': 'Yen', 'Singappore': 'SGD', 'Thailand': 'Bhat', 'Indonesia': 'IDR'}\n"
     ]
    }
   ],
   "source": [
    "countries.pop(\"USA\")\n",
    "print(countries)"
   ]
  },
  {
   "cell_type": "code",
   "execution_count": 56,
   "metadata": {},
   "outputs": [
    {
     "name": "stdout",
     "output_type": "stream",
     "text": [
      "{'India': {'Capital': 'NewDelhi', 'Curency': 'INR'}, 'Japan': 'Yen', 'Singappore': 'SGD', 'Thailand': 'Bhat'}\n"
     ]
    }
   ],
   "source": [
    "countries.popitem()\n",
    "print(countries)"
   ]
  },
  {
   "cell_type": "markdown",
   "metadata": {},
   "source": [
    "#### wap to find capital of germany"
   ]
  },
  {
   "cell_type": "code",
   "execution_count": 57,
   "metadata": {},
   "outputs": [
    {
     "data": {
      "text/plain": [
       "'Berlin'"
      ]
     },
     "execution_count": 57,
     "metadata": {},
     "output_type": "execute_result"
    }
   ],
   "source": [
    "europe = { 'Spain': { 'Capital':'Madrid', 'Population':4.77 },\n",
    "           'France': { 'Capital':'Paris', 'Population':6.7 },\n",
    "           'Germany': { 'Capital':'Berlin', 'Population':8.28 },\n",
    "           'Norway': { 'Capital':'Oslo', 'Population':0.533 } }\n",
    "europe[\"Germany\"][\"Capital\"]"
   ]
  },
  {
   "cell_type": "markdown",
   "metadata": {},
   "source": [
    "#### wap to check if country is present or not,if not add the country to the dictionary"
   ]
  },
  {
   "cell_type": "code",
   "execution_count": 2,
   "metadata": {},
   "outputs": [
    {
     "name": "stdout",
     "output_type": "stream",
     "text": [
      "{'India': 'INR', 'USA': 'USD', 'Japan': 'Yen', 'singappore': 'SGD', 'Thailand': 'Bhat', 'Indonesia': 'IDR'}\n"
     ]
    }
   ],
   "source": [
    "countries={\"India\":\"INR\",\"USA\":\"USD\",\"Japan\":\"Yen\",\"singappore\":\"SGD\",\"Thailand\":\"Bhat\",\"Indonesia\":\"IDR\"}\n",
    "print(countries)"
   ]
  },
  {
   "cell_type": "code",
   "execution_count": 6,
   "metadata": {},
   "outputs": [
    {
     "name": "stdout",
     "output_type": "stream",
     "text": [
      "Enter a country name:Japan\n",
      "Japan - Yen\n"
     ]
    }
   ],
   "source": [
    "country=input(\"Enter a country name:\")\n",
    "currency=countries.get(country)\n",
    "if currency:\n",
    "    print(country,\"-\",currency)\n",
    "else:\n",
    "    currency=input(country + \"not Present.Enter The Currency to Add:\")\n",
    "    countries[country]=currency\n",
    "    print(countries)"
   ]
  },
  {
   "cell_type": "markdown",
   "metadata": {},
   "source": [
    "#### creating dictionaries using sequences"
   ]
  },
  {
   "cell_type": "markdown",
   "metadata": {},
   "source": [
    "#### wap to create a dictionary of 5 elements where keys are roll no starting from 101 and its values are the students names are entered  by user"
   ]
  },
  {
   "cell_type": "code",
   "execution_count": 10,
   "metadata": {},
   "outputs": [
    {
     "name": "stdout",
     "output_type": "stream",
     "text": [
      "Enter a Student Name:Ram\n",
      "Enter a Student Name:Lakshman\n",
      "Enter a Student Name:Rossie\n",
      "Enter a Student Name:Jasmine\n",
      "Enter a Student Name:Vaidhei\n"
     ]
    },
    {
     "data": {
      "text/plain": [
       "{101: 'Ram', 102: 'Lakshman', 103: 'Rossie', 104: 'Jasmine', 105: 'Vaidhei'}"
      ]
     },
     "execution_count": 10,
     "metadata": {},
     "output_type": "execute_result"
    }
   ],
   "source": [
    "students={}\n",
    "for i in range(101,106):\n",
    "    students[i]=input(\"Enter a Student Name:\")\n",
    "students"
   ]
  },
  {
   "cell_type": "markdown",
   "metadata": {},
   "source": [
    "#### wap to create a dictionary\n"
   ]
  },
  {
   "cell_type": "code",
   "execution_count": 2,
   "metadata": {},
   "outputs": [
    {
     "data": {
      "text/plain": [
       "{'j': 70, 'd': 80, 'm': 90, 's': 100, 'g': 56}"
      ]
     },
     "execution_count": 2,
     "metadata": {},
     "output_type": "execute_result"
    }
   ],
   "source": [
    "names=['j','d','m','s','g']\n",
    "marks=[70,80,90,100,56]\n",
    "dict(zip(names,marks))"
   ]
  },
  {
   "cell_type": "code",
   "execution_count": 16,
   "metadata": {},
   "outputs": [
    {
     "data": {
      "text/plain": [
       "['d', 'g', 'j', 'm', 's']"
      ]
     },
     "execution_count": 16,
     "metadata": {},
     "output_type": "execute_result"
    }
   ],
   "source": [
    "students={'j':70,'d':90,'m':40,'s':50,'g':76}\n",
    "sorted(students)"
   ]
  },
  {
   "cell_type": "code",
   "execution_count": null,
   "metadata": {},
   "outputs": [],
   "source": [
    "for name in sorted(students):\n",
    "    print(name,\"-\",)\n"
   ]
  },
  {
   "cell_type": "code",
   "execution_count": 12,
   "metadata": {},
   "outputs": [
    {
     "data": {
      "text/plain": [
       "dict_keys([101, 102, 103, 104, 105])"
      ]
     },
     "execution_count": 12,
     "metadata": {},
     "output_type": "execute_result"
    }
   ],
   "source": [
    "students.keys()"
   ]
  },
  {
   "cell_type": "code",
   "execution_count": 13,
   "metadata": {},
   "outputs": [
    {
     "data": {
      "text/plain": [
       "dict_items([(101, 'Ram'), (102, 'Lakshman'), (103, 'Rossie'), (104, 'Jasmine'), (105, 'Vaidhei')])"
      ]
     },
     "execution_count": 13,
     "metadata": {},
     "output_type": "execute_result"
    }
   ],
   "source": [
    "students.items()"
   ]
  },
  {
   "cell_type": "code",
   "execution_count": 15,
   "metadata": {},
   "outputs": [
    {
     "data": {
      "text/plain": [
       "dict_values(['Ram', 'Lakshman', 'Rossie', 'Jasmine', 'Vaidhei'])"
      ]
     },
     "execution_count": 15,
     "metadata": {},
     "output_type": "execute_result"
    }
   ],
   "source": [
    "students.values()"
   ]
  },
  {
   "cell_type": "markdown",
   "metadata": {},
   "source": [
    "#### wap to print the name and total marks(percentage) of each students"
   ]
  },
  {
   "cell_type": "code",
   "execution_count": 17,
   "metadata": {},
   "outputs": [],
   "source": [
    "students={\"Jane\":[70,65,32],\"Drake\":[90,76,98],\"Mary\":[40,55,78],\"Sam\":[50,87,67],\"George\":[76,72,89]}"
   ]
  },
  {
   "cell_type": "code",
   "execution_count": 18,
   "metadata": {},
   "outputs": [
    {
     "name": "stdout",
     "output_type": "stream",
     "text": [
      "Jane - 55.666666666666664\n",
      "Drake - 88.0\n",
      "Mary - 57.666666666666664\n",
      "Sam - 68.0\n",
      "George - 79.0\n"
     ]
    }
   ],
   "source": [
    "for name,marks in students.items():\n",
    "    print(name,\"-\",sum(marks)/3)"
   ]
  },
  {
   "cell_type": "code",
   "execution_count": 21,
   "metadata": {},
   "outputs": [
    {
     "name": "stdout",
     "output_type": "stream",
     "text": [
      "Jane - 55.67\n",
      "Drake - 88.0\n",
      "Mary - 57.67\n",
      "Sam - 68.0\n",
      "George - 79.0\n"
     ]
    }
   ],
   "source": [
    "students={\"Jane\":[70,65,32],\"Drake\":[90,76,98],\"Mary\":[40,55,78],\"Sam\":[50,87,67],\"George\":[76,72,89]}\n",
    "for name,marks in students.items():\n",
    "    print(name,\"-\",round(sum(marks)/3,2))"
   ]
  },
  {
   "cell_type": "markdown",
   "metadata": {},
   "source": [
    "### DECISION MAKING"
   ]
  },
  {
   "cell_type": "markdown",
   "metadata": {},
   "source": [
    "#### WAP TO CHECK IF AGE OF USER IS GREATER THAN 25 AND AND LESS THAN 50"
   ]
  },
  {
   "cell_type": "code",
   "execution_count": 22,
   "metadata": {},
   "outputs": [
    {
     "name": "stdout",
     "output_type": "stream",
     "text": [
      "Enter your age:25\n",
      "In-Valid\n"
     ]
    }
   ],
   "source": [
    "age=int(input(\"Enter your age:\"))\n",
    "if age>25 and age<25:\n",
    "    print(\"Valid\")\n",
    "else:\n",
    "    print(\"In-Valid\")"
   ]
  },
  {
   "cell_type": "markdown",
   "metadata": {},
   "source": [
    "#### WAP TO CHECK IF ENTERED NO IS EVEN OR ODD"
   ]
  },
  {
   "cell_type": "markdown",
   "metadata": {},
   "source": [
    "#### if-else"
   ]
  },
  {
   "cell_type": "code",
   "execution_count": 23,
   "metadata": {},
   "outputs": [
    {
     "name": "stdout",
     "output_type": "stream",
     "text": [
      "Enter a number:5\n",
      "Odd\n"
     ]
    }
   ],
   "source": [
    "num=int(input(\"Enter a number:\"))\n",
    "if num%2==0:\n",
    "    print(\"Even\")\n",
    "else:\n",
    "    print(\"Odd\")"
   ]
  },
  {
   "cell_type": "markdown",
   "metadata": {},
   "source": [
    "### if else as expression not as block"
   ]
  },
  {
   "cell_type": "code",
   "execution_count": 24,
   "metadata": {},
   "outputs": [
    {
     "name": "stdout",
     "output_type": "stream",
     "text": [
      "Enter a number:29\n",
      "odd\n"
     ]
    }
   ],
   "source": [
    "#if-else as expression\n",
    "num=int(input(\"Enter a number:\"))\n",
    "var='even' if num%2==0 else \"odd\"\n",
    "print(var)"
   ]
  },
  {
   "cell_type": "code",
   "execution_count": 25,
   "metadata": {},
   "outputs": [
    {
     "name": "stdout",
     "output_type": "stream",
     "text": [
      "Enter a number:36\n",
      "36 is an even numbber\n"
     ]
    }
   ],
   "source": [
    "num=int(input(\"Enter a number:\"))\n",
    "print(num,\"is an\",\"even\" if num%2==0 else \"odd\",\"numbber\")"
   ]
  },
  {
   "cell_type": "markdown",
   "metadata": {},
   "source": [
    "#### wap to check if a no is positive,if yes then check if it is  divisible by 5"
   ]
  },
  {
   "cell_type": "markdown",
   "metadata": {},
   "source": [
    "### nested if else"
   ]
  },
  {
   "cell_type": "markdown",
   "metadata": {},
   "source": [
    "#### ex:Toss a coin and guess the outcome\n",
    "##### wap to stimulate coin toss and compare the outcome with guess made by user.The program must return \"Invalid i/p.if user enter as invalid "
   ]
  },
  {
   "cell_type": "code",
   "execution_count": 2,
   "metadata": {},
   "outputs": [
    {
     "name": "stdout",
     "output_type": "stream",
     "text": [
      "Enter Your Guess as Heads or Tails:Heads\n",
      "Tails\n",
      "You Lost!\n"
     ]
    }
   ],
   "source": [
    "guess=input(\"Enter Your Guess as Heads or Tails:\")\n",
    "import random as r\n",
    "r.random()\n",
    "\n",
    "outcome=r.choice([\"Heads\",\"Tails\"])\n",
    "print(outcome)\n",
    "\n",
    "if guess==outcome:\n",
    "    print(\"You Won\")\n",
    "\n",
    "else:\n",
    "    print(\"You Lost!\")\n",
    "        \n"
   ]
  },
  {
   "cell_type": "markdown",
   "metadata": {},
   "source": [
    "### random module"
   ]
  },
  {
   "cell_type": "code",
   "execution_count": 27,
   "metadata": {},
   "outputs": [
    {
     "data": {
      "text/plain": [
       "0.8434405760563604"
      ]
     },
     "execution_count": 27,
     "metadata": {},
     "output_type": "execute_result"
    }
   ],
   "source": [
    "import random as r\n",
    "r.random()"
   ]
  },
  {
   "cell_type": "code",
   "execution_count": 28,
   "metadata": {},
   "outputs": [
    {
     "data": {
      "text/plain": [
       "5"
      ]
     },
     "execution_count": 28,
     "metadata": {},
     "output_type": "execute_result"
    }
   ],
   "source": [
    "r.randint(1,5)"
   ]
  },
  {
   "cell_type": "markdown",
   "metadata": {},
   "source": [
    "#### WAP TO CHECK IF AGE OF USER IS GREATER THAN 25 AND AND LESS THAN 50"
   ]
  },
  {
   "cell_type": "code",
   "execution_count": 14,
   "metadata": {},
   "outputs": [
    {
     "name": "stdout",
     "output_type": "stream",
     "text": [
      "Enter your age:abcd\n",
      "Enter a Valid Age:\n"
     ]
    }
   ],
   "source": [
    "age=input(\"Enter your age:\")\n",
    "\n",
    "if age.isdigit():\n",
    "    age=int(age)\n",
    "\n",
    "\n",
    "    if age>25:\n",
    "        print(\"Allowed For Party\")\n",
    "        \n",
    "    else:\n",
    "        print(\"Not Allowed For Party\")\n",
    "    \n",
    "else:\n",
    "    print(\"Enter a Valid Age\")"
   ]
  },
  {
   "cell_type": "markdown",
   "metadata": {},
   "source": [
    "#### nested if else"
   ]
  },
  {
   "cell_type": "code",
   "execution_count": 12,
   "metadata": {},
   "outputs": [
    {
     "name": "stdout",
     "output_type": "stream",
     "text": [
      "Enter Your Guess as Heads or Tails:abcd\n",
      "Invalid Input\n"
     ]
    }
   ],
   "source": [
    "import random as r\n",
    "guess=input(\"Enter Your Guess as Heads or Tails:\").lower()\n",
    "\n",
    "options=[\"heads\",\"tails\"]\n",
    "\n",
    "if guess in options:\n",
    "    outcome=r.choice([\"heads\",\"tails\"])\n",
    "    print(outcome)\n",
    "\n",
    "    if guess==outcome:\n",
    "        print(\"You Won\")\n",
    "\n",
    "    else:\n",
    "        print(\"You Lost!\")\n",
    "\n",
    "else:\n",
    "    print(\"Invalid Input\")"
   ]
  },
  {
   "cell_type": "markdown",
   "metadata": {},
   "source": [
    "#### wap to check if a number is positive,if yes then check if it is divisible by 5 or not"
   ]
  },
  {
   "cell_type": "code",
   "execution_count": 26,
   "metadata": {},
   "outputs": [
    {
     "name": "stdout",
     "output_type": "stream",
     "text": [
      "Enter a Number:-10\n",
      "Negative\n"
     ]
    }
   ],
   "source": [
    "num=int(input(\"Enter a Number:\"))\n",
    "\n",
    "if num>=0:\n",
    "    \n",
    "    if num%5==0:\n",
    "        print(num,\"is Positive and divisible by 5\")\n",
    "        \n",
    "    else:\n",
    "        print(num,\"Positive and not divisible by 5\")    \n",
    "else:\n",
    "    print(\"Negative\")"
   ]
  },
  {
   "cell_type": "markdown",
   "metadata": {},
   "source": [
    "#### if elif else"
   ]
  },
  {
   "cell_type": "markdown",
   "metadata": {},
   "source": [
    "#### wap to check if a number is positive,negatie or zero"
   ]
  },
  {
   "cell_type": "code",
   "execution_count": 28,
   "metadata": {},
   "outputs": [
    {
     "name": "stdout",
     "output_type": "stream",
     "text": [
      "Enter a Number:0\n",
      "Zero\n"
     ]
    }
   ],
   "source": [
    "num=int(input(\"Enter a Number:\"))\n",
    "\n",
    "if num>0:\n",
    "    print(\"Positive\")\n",
    "\n",
    "elif num<0:\n",
    "    print(\"Negative\")\n",
    "    \n",
    "else:\n",
    "    print(\"Zero\")\n",
    "        "
   ]
  },
  {
   "cell_type": "markdown",
   "metadata": {},
   "source": [
    "#### ex: wap 7up and 7 down\n",
    "#### 1.player enters the game with initial amount as Rs.1000\n",
    "#### 2.Generate a random Value between 1 to 14 and Store it in a variable \"Outcome\"\n",
    "#### 3.if outcome=7 player hits jackpot and wins Rs.1,00,00,000\n",
    "#### 4.if outcome<7 player looses amount by(outcome*100)\n",
    "#### 5.if outcomes>7 player earns amount by(outcome*100)\n",
    "#### 6.printt the final amount with the player\n"
   ]
  },
  {
   "cell_type": "code",
   "execution_count": 31,
   "metadata": {},
   "outputs": [
    {
     "name": "stdout",
     "output_type": "stream",
     "text": [
      "6\n"
     ]
    }
   ],
   "source": [
    "import random as r\n",
    "amount=1000\n",
    "outcome=r.randint(1,14)\n",
    "print(outcome)\n",
    "if outcome==7:\n",
    "    amount=100000\n",
    "elif outcome<7:\n",
    "    amount-=(outcome*100)\n",
    "elif outcome>7:\n",
    "    amount+=(outcome*100)\n",
    "    print(amount)"
   ]
  },
  {
   "cell_type": "code",
   "execution_count": null,
   "metadata": {},
   "outputs": [],
   "source": [
    "amt=1000\n",
    "\n",
    "outcome=r.randint(1,14)\n",
    "print(\"Your Score is:\",outcome)\n",
    "\n",
    "if outcome>7:\n",
    "    amt+=(outcome*100)\n",
    "elif outcome<7:\n",
    "    amt-=(outcome*100)\n",
    "    "
   ]
  },
  {
   "cell_type": "markdown",
   "metadata": {},
   "source": [
    "## LOOPS"
   ]
  },
  {
   "cell_type": "markdown",
   "metadata": {},
   "source": [
    "### WHILE LOOP"
   ]
  },
  {
   "cell_type": "markdown",
   "metadata": {},
   "source": [
    "### FOR LOOP"
   ]
  },
  {
   "cell_type": "markdown",
   "metadata": {},
   "source": [
    "#### WAP TO ACCEPT CHARACTERS FROM USER TILL USER ENTERS \"Q\".PRINT STRING OF ALL THE CHARACTERS ENTERED BY THE USER"
   ]
  },
  {
   "cell_type": "code",
   "execution_count": 32,
   "metadata": {},
   "outputs": [
    {
     "name": "stdout",
     "output_type": "stream",
     "text": [
      "Enter a Character:a\n",
      "a\n",
      "Enter a Character:b\n",
      "b\n",
      "Enter a Character:c\n",
      "c\n",
      "Enter a Character:d\n",
      "d\n",
      "Enter a Character:w\n",
      "w\n",
      "Enter a Character:q\n"
     ]
    }
   ],
   "source": [
    "ch=input(\"Enter a Character:\")\n",
    "\n",
    "while ch!=\"q\":\n",
    "    print(ch)\n",
    "    \n",
    "    ch=input(\"Enter a Character:\")"
   ]
  },
  {
   "cell_type": "code",
   "execution_count": 1,
   "metadata": {},
   "outputs": [
    {
     "name": "stdout",
     "output_type": "stream",
     "text": [
      "Enter a Character:a\n",
      "a\n",
      "Enter a Character:b\n",
      "b\n",
      "Enter a Character:c\n",
      "c\n",
      "Enter a Character:d\n",
      "d\n",
      "Enter a Character:q\n",
      "q\n"
     ]
    }
   ],
   "source": [
    "ch=\"\"\n",
    "\n",
    "while ch!=\"q\":\n",
    "    ch=input(\"Enter a Character:\")\n",
    "    print(ch)"
   ]
  },
  {
   "cell_type": "code",
   "execution_count": 2,
   "metadata": {},
   "outputs": [
    {
     "name": "stdout",
     "output_type": "stream",
     "text": [
      "Enter a Charater:a\n",
      "Enter a Charater:b\n",
      "Enter a Charater:c\n",
      "Enter a Charater:d\n",
      "Enter a Charater:e\n",
      "Enter a Charater:f\n",
      "Enter a Charater:g\n",
      "Enter a Charater:h\n",
      "Enter a Charater:i\n",
      "Enter a Charater:j\n",
      "Enter a Charater:k\n",
      "Enter a Charater:l\n",
      "Enter a Charater:m\n",
      "Enter a Charater:n\n",
      "Enter a Charater:o\n",
      "Enter a Charater:p\n",
      "Enter a Charater:q\n",
      "abcdefghijklmnopq\n"
     ]
    }
   ],
   "source": [
    "ch=\"\"\n",
    "string=\"\"\n",
    "\n",
    "while ch!=\"q\":\n",
    "    ch=input(\"Enter a Charater:\")\n",
    "    string+=ch\n",
    "print(string)"
   ]
  },
  {
   "cell_type": "code",
   "execution_count": 3,
   "metadata": {},
   "outputs": [
    {
     "name": "stdout",
     "output_type": "stream",
     "text": [
      "Enter a Charater:q\n",
      "q\n"
     ]
    }
   ],
   "source": [
    "ch=\"\"\n",
    "string=\"\"\n",
    "\n",
    "while ch!=\"q\":\n",
    "    ch=input(\"Enter a Charater:\")\n",
    "    string+=ch\n",
    "print(string)\n"
   ]
  },
  {
   "cell_type": "markdown",
   "metadata": {},
   "source": [
    "##### BREAK AND CONTINUE"
   ]
  },
  {
   "cell_type": "markdown",
   "metadata": {},
   "source": [
    "##### modify the program to ignore vowels"
   ]
  },
  {
   "cell_type": "code",
   "execution_count": 4,
   "metadata": {},
   "outputs": [
    {
     "name": "stdout",
     "output_type": "stream",
     "text": [
      "Enter a Charater:a\n",
      "Enter a Charater:b\n",
      "Enter a Charater:c\n",
      "Enter a Charater:d\n",
      "Enter a Charater:e\n",
      "Enter a Charater:f\n",
      "Enter a Charater:i\n",
      "Enter a Charater:o\n",
      "Enter a Charater:u\n",
      "Enter a Charater:q\n",
      "bcdfq\n"
     ]
    }
   ],
   "source": [
    "ch=\"\"\n",
    "string=\"\"\n",
    "\n",
    "while ch!=\"q\":\n",
    "    ch=input(\"Enter a Charater:\")\n",
    "    if ch in \"aeiou\":\n",
    "        continue#continue-skip the iteration\n",
    "        \n",
    "    string+=ch\n",
    "    \n",
    "print(string)"
   ]
  },
  {
   "cell_type": "code",
   "execution_count": 6,
   "metadata": {},
   "outputs": [
    {
     "name": "stdout",
     "output_type": "stream",
     "text": [
      "Enter a Charater:a\n",
      "Enter a Charater:b\n",
      "Enter a Charater:c\n",
      "Enter a Charater:d\n",
      "Enter a Charater:e\n",
      "Enter a Charater:f\n",
      "Enter a Charater:g\n",
      "Enter a Charater:h\n",
      "Enter a Charater:i\n",
      "Enter a Charater:o\n",
      "Enter a Charater:u\n",
      "Enter a Charater:q\n",
      "aeiou\n"
     ]
    }
   ],
   "source": [
    "ch=\"\"\n",
    "string=\"\"\n",
    "\n",
    "while ch!=\"q\":\n",
    "    ch=input(\"Enter a Charater:\")\n",
    "    if ch in \"aeiou\":\n",
    "        string+=ch\n",
    "    \n",
    "print(string)"
   ]
  },
  {
   "cell_type": "code",
   "execution_count": 9,
   "metadata": {},
   "outputs": [
    {
     "name": "stdout",
     "output_type": "stream",
     "text": [
      "Enter a Charater:a\n",
      "Enter a Charater:b\n",
      "Enter a Charater:c\n",
      "Enter a Charater:d\n",
      "Enter a Charater:e\n",
      "Enter a Charater:q\n",
      "bcd\n"
     ]
    }
   ],
   "source": [
    "ch=\"\"\n",
    "string=\"\"\n",
    "\n",
    "while True:#denotes an infinite loop,it can be terminated only by using break\n",
    "    \n",
    "    ch=input(\"Enter a Charater:\")\n",
    "    \n",
    "    if ch in \"q\":\n",
    "        break#terminates the loop\n",
    "    \n",
    "    elif ch in \"aeiou\":\n",
    "        continue\n",
    "    \n",
    "        \n",
    "    string+=ch #this line will not get executed if break occurs and hence q is not concataneted\n",
    "    \n",
    "print(string)"
   ]
  },
  {
   "cell_type": "code",
   "execution_count": 11,
   "metadata": {},
   "outputs": [
    {
     "name": "stdout",
     "output_type": "stream",
     "text": [
      "Enter a Charater:b\n",
      "Enter a Charater:c\n",
      "Enter a Charater:d\n",
      "Enter a Charater:q\n",
      "bcd\n"
     ]
    }
   ],
   "source": [
    "ch=\"\"\n",
    "string=\"\"\n",
    "\n",
    "while True:#denotes an infinite loop,it can be terminated only by using break\n",
    "    \n",
    "    ch=input(\"Enter a Charater:\")\n",
    "    if ch in \"aeiou\":\n",
    "        continue\n",
    "    \n",
    "    if ch==\"q\":\n",
    "        break\n",
    "    \n",
    "    string+=ch \n",
    "    \n",
    "print(string)"
   ]
  },
  {
   "cell_type": "markdown",
   "metadata": {},
   "source": [
    "## FOR LOOP"
   ]
  },
  {
   "cell_type": "code",
   "execution_count": 12,
   "metadata": {},
   "outputs": [
    {
     "data": {
      "text/plain": [
       "range(1, 11)"
      ]
     },
     "execution_count": 12,
     "metadata": {},
     "output_type": "execute_result"
    }
   ],
   "source": [
    "range(1,11)"
   ]
  },
  {
   "cell_type": "code",
   "execution_count": 16,
   "metadata": {},
   "outputs": [
    {
     "name": "stdout",
     "output_type": "stream",
     "text": [
      "1,2,3,4,5,6,7,8,9,10,"
     ]
    }
   ],
   "source": [
    "for i in range(1,11):\n",
    "    print(i,end=\",\")"
   ]
  },
  {
   "cell_type": "code",
   "execution_count": 17,
   "metadata": {},
   "outputs": [
    {
     "name": "stdout",
     "output_type": "stream",
     "text": [
      "0,1,2,3,4,5,6,7,8,9,10,"
     ]
    }
   ],
   "source": [
    "for i in range(11):\n",
    "    print(i,end=\",\")"
   ]
  },
  {
   "cell_type": "code",
   "execution_count": 19,
   "metadata": {},
   "outputs": [
    {
     "name": "stdout",
     "output_type": "stream",
     "text": [
      "1,4,7,10,13,16,19,22,25,28,31,34,37,40,43,46,49,"
     ]
    }
   ],
   "source": [
    "for i in range(1,50,3):\n",
    "    print(i,end=\",\")"
   ]
  },
  {
   "cell_type": "code",
   "execution_count": 20,
   "metadata": {},
   "outputs": [
    {
     "name": "stdout",
     "output_type": "stream",
     "text": [
      "1,6,11,16,21,26,31,36,41,46,"
     ]
    }
   ],
   "source": [
    "for i in range(1,50,5):\n",
    "    print(i,end=\",\")"
   ]
  },
  {
   "cell_type": "code",
   "execution_count": 21,
   "metadata": {},
   "outputs": [
    {
     "name": "stdout",
     "output_type": "stream",
     "text": [
      "50,49,48,47,46,45,44,43,42,41,40,39,38,37,36,35,34,33,32,31,30,29,28,27,26,25,24,23,22,21,20,19,18,17,16,15,14,13,12,11,10,9,8,7,6,5,4,3,2,1,"
     ]
    }
   ],
   "source": [
    "for i in range(50,0,-1):\n",
    "    print(i,end=\",\")"
   ]
  },
  {
   "cell_type": "code",
   "execution_count": 22,
   "metadata": {},
   "outputs": [
    {
     "name": "stdout",
     "output_type": "stream",
     "text": [
      "50\n",
      "45\n",
      "40\n",
      "35\n",
      "30\n",
      "25\n",
      "20\n",
      "15\n",
      "10\n",
      "5\n"
     ]
    }
   ],
   "source": [
    "for i in range(50,0,-5):\n",
    "    print(i)"
   ]
  },
  {
   "cell_type": "markdown",
   "metadata": {},
   "source": [
    "#### wap to take word as an input and print all the characters"
   ]
  },
  {
   "cell_type": "code",
   "execution_count": 23,
   "metadata": {},
   "outputs": [
    {
     "name": "stdout",
     "output_type": "stream",
     "text": [
      "Enter a name:Ram\n",
      "R\n",
      "a\n",
      "m\n"
     ]
    }
   ],
   "source": [
    "word=input(\"Enter a name:\")\n",
    "for i in word:\n",
    "    print(i)"
   ]
  },
  {
   "cell_type": "markdown",
   "metadata": {},
   "source": [
    "#### wap to print product as "
   ]
  },
  {
   "cell_type": "code",
   "execution_count": null,
   "metadata": {},
   "outputs": [],
   "source": []
  },
  {
   "cell_type": "markdown",
   "metadata": {},
   "source": [
    "### LIST COMPREHENSION"
   ]
  },
  {
   "cell_type": "code",
   "execution_count": 27,
   "metadata": {},
   "outputs": [
    {
     "name": "stdout",
     "output_type": "stream",
     "text": [
      "0\n",
      "1\n",
      "2\n",
      "3\n",
      "4\n"
     ]
    }
   ],
   "source": [
    "for i in range(5):\n",
    "    print(i)"
   ]
  },
  {
   "cell_type": "code",
   "execution_count": 28,
   "metadata": {},
   "outputs": [
    {
     "data": {
      "text/plain": [
       "[0, 1, 2, 3, 4]"
      ]
     },
     "execution_count": 28,
     "metadata": {},
     "output_type": "execute_result"
    }
   ],
   "source": [
    "[i for i in range(5)]"
   ]
  },
  {
   "cell_type": "code",
   "execution_count": 29,
   "metadata": {},
   "outputs": [
    {
     "data": {
      "text/plain": [
       "['Ram', 'Ram', 'Ram', 'Ram', 'Ram']"
      ]
     },
     "execution_count": 29,
     "metadata": {},
     "output_type": "execute_result"
    }
   ],
   "source": [
    "[\"Ram\" for i in range(5)]"
   ]
  },
  {
   "cell_type": "code",
   "execution_count": 30,
   "metadata": {},
   "outputs": [
    {
     "data": {
      "text/plain": [
       "['Ram', 'Ram', 'Ram', 'Ram', 'Ram']"
      ]
     },
     "execution_count": 30,
     "metadata": {},
     "output_type": "execute_result"
    }
   ],
   "source": [
    "a=[]\n",
    "for i in range(5):\n",
    "    a.append(\"Ram\")\n",
    "a"
   ]
  },
  {
   "cell_type": "code",
   "execution_count": 31,
   "metadata": {},
   "outputs": [
    {
     "name": "stdout",
     "output_type": "stream",
     "text": [
      "2\n",
      "4\n",
      "6\n",
      "8\n",
      "10\n",
      "12\n",
      "14\n",
      "16\n",
      "18\n",
      "20\n",
      "22\n",
      "24\n",
      "26\n",
      "28\n",
      "30\n",
      "32\n",
      "34\n",
      "36\n",
      "38\n",
      "40\n",
      "42\n",
      "44\n",
      "46\n",
      "48\n",
      "50\n"
     ]
    }
   ],
   "source": [
    "for i in range(1,51):\n",
    "    if i%2==0:\n",
    "        print(i)"
   ]
  },
  {
   "cell_type": "code",
   "execution_count": 32,
   "metadata": {},
   "outputs": [
    {
     "data": {
      "text/plain": [
       "[0,\n",
       " 2,\n",
       " 4,\n",
       " 6,\n",
       " 8,\n",
       " 10,\n",
       " 12,\n",
       " 14,\n",
       " 16,\n",
       " 18,\n",
       " 20,\n",
       " 22,\n",
       " 24,\n",
       " 26,\n",
       " 28,\n",
       " 30,\n",
       " 32,\n",
       " 34,\n",
       " 36,\n",
       " 38,\n",
       " 40,\n",
       " 42,\n",
       " 44,\n",
       " 46,\n",
       " 48,\n",
       " 50]"
      ]
     },
     "execution_count": 32,
     "metadata": {},
     "output_type": "execute_result"
    }
   ],
   "source": [
    "[i for i in range(51) if i%2==0]"
   ]
  },
  {
   "cell_type": "markdown",
   "metadata": {},
   "source": [
    "#### wap to accept an integer from user and print a table for given number"
   ]
  },
  {
   "cell_type": "code",
   "execution_count": 3,
   "metadata": {},
   "outputs": [
    {
     "name": "stdout",
     "output_type": "stream",
     "text": [
      "3 X 1 = 3\n",
      "3 X 2 = 6\n",
      "3 X 3 = 9\n",
      "3 X 4 = 12\n",
      "3 X 5 = 15\n",
      "3 X 6 = 18\n",
      "3 X 7 = 21\n",
      "3 X 8 = 24\n",
      "3 X 9 = 27\n",
      "3 X 10 = 30\n"
     ]
    }
   ],
   "source": [
    "total=0\n",
    "for i in range(1,11):\n",
    "    total+=3\n",
    "    \n",
    "    print('3 X',i,\"=\",total)"
   ]
  },
  {
   "cell_type": "code",
   "execution_count": 2,
   "metadata": {},
   "outputs": [
    {
     "name": "stdout",
     "output_type": "stream",
     "text": [
      "Enter a Number:3\n",
      "3 X 1 = 3\n",
      "3 X 2 = 6\n",
      "3 X 3 = 9\n",
      "3 X 4 = 12\n",
      "3 X 5 = 15\n",
      "3 X 6 = 18\n",
      "3 X 7 = 21\n",
      "3 X 8 = 24\n",
      "3 X 9 = 27\n",
      "3 X 10 = 30\n"
     ]
    }
   ],
   "source": [
    "n=int(input(\"Enter a Number:\"))\n",
    "\n",
    "for i in range(1,11):\n",
    "    print(n,\"X\",i,\"=\",n*i)"
   ]
  },
  {
   "cell_type": "code",
   "execution_count": null,
   "metadata": {},
   "outputs": [],
   "source": []
  },
  {
   "cell_type": "code",
   "execution_count": null,
   "metadata": {},
   "outputs": [],
   "source": []
  },
  {
   "cell_type": "code",
   "execution_count": null,
   "metadata": {},
   "outputs": [],
   "source": []
  },
  {
   "cell_type": "code",
   "execution_count": null,
   "metadata": {},
   "outputs": [],
   "source": []
  }
 ],
 "metadata": {
  "kernelspec": {
   "display_name": "Python 3",
   "language": "python",
   "name": "python3"
  },
  "language_info": {
   "codemirror_mode": {
    "name": "ipython",
    "version": 3
   },
   "file_extension": ".py",
   "mimetype": "text/x-python",
   "name": "python",
   "nbconvert_exporter": "python",
   "pygments_lexer": "ipython3",
   "version": "3.7.4"
  }
 },
 "nbformat": 4,
 "nbformat_minor": 2
}
